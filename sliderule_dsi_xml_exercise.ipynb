{
 "cells": [
  {
   "cell_type": "markdown",
   "metadata": {},
   "source": [
    "# XML example and exercise\n",
    "****\n",
    "+ study examples of accessing nodes in XML tree structure  \n",
    "+ work on exercise to be completed and submitted\n",
    "****\n",
    "+ reference: https://docs.python.org/2.7/library/xml.etree.elementtree.html\n",
    "+ data source: http://www.dbis.informatik.uni-goettingen.de/Mondial\n",
    "****"
   ]
  },
  {
   "cell_type": "code",
   "execution_count": 5,
   "metadata": {
    "collapsed": true
   },
   "outputs": [],
   "source": [
    "from xml.etree import ElementTree as ET\n"
   ]
  },
  {
   "cell_type": "markdown",
   "metadata": {},
   "source": [
    "## XML example\n",
    "\n",
    "+ for details about tree traversal and iterators, see https://docs.python.org/2.7/library/xml.etree.elementtree.html"
   ]
  },
  {
   "cell_type": "code",
   "execution_count": 6,
   "metadata": {
    "collapsed": true
   },
   "outputs": [],
   "source": [
    "document_tree = ET.parse( './data/mondial_database_less.xml' )"
   ]
  },
  {
   "cell_type": "code",
   "execution_count": 18,
   "metadata": {
    "collapsed": false
   },
   "outputs": [
    {
     "name": "stdout",
     "output_type": "stream",
     "text": [
      "Albania\n",
      "Greece\n",
      "Macedonia\n",
      "Serbia\n",
      "Montenegro\n",
      "Kosovo\n",
      "Andorra\n"
     ]
    }
   ],
   "source": [
    "# print names of all countries\n",
    "for child in document_tree.getroot():\n",
    "    print(child.find('name').text)"
   ]
  },
  {
   "cell_type": "code",
   "execution_count": 19,
   "metadata": {
    "collapsed": false
   },
   "outputs": [
    {
     "name": "stdout",
     "output_type": "stream",
     "text": [
      "* Albania:\n",
      "Tirana, Shkodër, Durrës, Vlorë, Elbasan, Korçë\n",
      "* Greece:\n",
      "Komotini, Kavala, Athina, Peiraias, Peristeri, Acharnes, Patra, Kozani, Kerkyra, Ioannina, Thessaloniki, Iraklio, Chania, Ermoupoli, Rhodes, Tripoli, Lamia, Chalkida, Larissa, Volos, Mytilini, Karyes\n",
      "* Macedonia:\n",
      "Skopje, Kumanovo\n",
      "* Serbia:\n",
      "Beograd, Novi Sad, Niš\n",
      "* Montenegro:\n",
      "Podgorica\n",
      "* Kosovo:\n",
      "Prishtine\n",
      "* Andorra:\n",
      "Andorra la Vella\n"
     ]
    }
   ],
   "source": [
    "# print names of all countries and their cities\n",
    "for element in document_tree.iterfind('country'):\n",
    "    print('* ' + element.find('name').text + ':'),\n",
    "    capitals_string = ''\n",
    "    for subelement in element.getiterator('city'):\n",
    "        capitals_string += subelement.find('name').text + ', '\n",
    "    print (capitals_string[:-2])"
   ]
  },
  {
   "cell_type": "markdown",
   "metadata": {},
   "source": [
    "****\n",
    "## XML exercise\n",
    "\n",
    "Using data in 'data/mondial_database.xml', the examples above, and refering to https://docs.python.org/2.7/library/xml.etree.elementtree.html, find\n",
    "\n",
    "1. 10 countries with the lowest infant mortality rates\n",
    "2. 10 cities with the largest population\n",
    "3. 10 ethnic groups with the largest overall populations (sum of best/latest estimates over all countries)\n",
    "4. name and country of a) longest river, b) largest lake and c) airport at highest elevation"
   ]
  },
  {
   "cell_type": "code",
   "execution_count": 27,
   "metadata": {
    "collapsed": false
   },
   "outputs": [],
   "source": [
    "document = ET.parse( './data/mondial_database.xml' )"
   ]
  },
  {
   "cell_type": "code",
   "execution_count": 28,
   "metadata": {
    "collapsed": true
   },
   "outputs": [],
   "source": [
    "root = document.getroot()"
   ]
  },
  {
   "cell_type": "markdown",
   "metadata": {},
   "source": [
    "## Part 1: 10 countries with the lowest infant mortality rates"
   ]
  },
  {
   "cell_type": "code",
   "execution_count": 44,
   "metadata": {
    "collapsed": false
   },
   "outputs": [
    {
     "name": "stdout",
     "output_type": "stream",
     "text": [
      "1. Monaco: 1.81\n",
      "2. Japan: 2.13\n",
      "3. Norway: 2.48\n",
      "4. Bermuda: 2.48\n",
      "5. Singapore: 2.53\n",
      "6. Sweden: 2.6\n",
      "7. Czech Republic: 2.63\n",
      "8. Hong Kong: 2.73\n",
      "9. Macao: 3.13\n",
      "10. Iceland: 3.15\n"
     ]
    }
   ],
   "source": [
    "inf_mort = {}\n",
    "\n",
    "for country in root.findall('country'):\n",
    "    if country.find('infant_mortality') != None:\n",
    "        name = country.find('name').text\n",
    "        im = country.find('infant_mortality').text\n",
    "    inf_mort[name] = float(im)\n",
    "    \n",
    "i = 1\n",
    "for key in sorted(inf_mort, key=inf_mort.get)[:10]:\n",
    "    print(str(i) + '. ' + key + \": \" + str(inf_mort[key]))\n",
    "    i+=1"
   ]
  },
  {
   "cell_type": "markdown",
   "metadata": {},
   "source": [
    "## Part 2: 10 cities with the largest population"
   ]
  },
  {
   "cell_type": "code",
   "execution_count": 49,
   "metadata": {
    "collapsed": false
   },
   "outputs": [
    {
     "name": "stdout",
     "output_type": "stream",
     "text": [
      "1. Shanghai: 22315474\n",
      "2. Istanbul: 13710512\n",
      "3. Delhi: 12877470\n",
      "4. Mumbai: 12442373\n",
      "5. Moskva: 11979529\n",
      "6. Beijing: 11716620\n",
      "7. São Paulo: 11152344\n",
      "8. Tianjin: 11090314\n",
      "9. Guangzhou: 11071424\n",
      "10. Shenzhen: 10358381\n"
     ]
    }
   ],
   "source": [
    "city_pop = {}\n",
    "\n",
    "for city in root.iter('city'):\n",
    "    name = city.find('name').text\n",
    "    for pop in city.findall('population'):\n",
    "        if name not in city_pop or city_pop[name] < int(pop.text):\n",
    "            city_pop[name] = int(pop.text)\n",
    "\n",
    "i = 1\n",
    "for key in sorted(city_pop, key=city_pop.get, reverse=True)[:10]:\n",
    "    print(str(i) + '. ' + key + \": \" + str(city_pop[key]))\n",
    "    i+=1"
   ]
  },
  {
   "cell_type": "code",
   "execution_count": null,
   "metadata": {
    "collapsed": true
   },
   "outputs": [],
   "source": []
  },
  {
   "cell_type": "markdown",
   "metadata": {},
   "source": [
    "## Part 3: 10 ethnic groups with the largest overall populations (sum of best/latest estimates over all countries)"
   ]
  },
  {
   "cell_type": "code",
   "execution_count": 61,
   "metadata": {
    "collapsed": false
   },
   "outputs": [
    {
     "name": "stdout",
     "output_type": "stream",
     "text": [
      "1. Han Chinese: 1245058800.0\n",
      "2. Indo-Aryan: 871815583.4399999\n",
      "3. European: 494872219.7195999\n",
      "4. African: 318325120.36899996\n",
      "5. Dravidian: 302713744.25\n",
      "6. Mestizo: 157734354.93699998\n",
      "7. Bengali: 146776916.72\n",
      "8. Russian: 131856996.077\n",
      "9. Japanese: 126534212.00000001\n",
      "10. Malay: 121993550.374\n"
     ]
    }
   ],
   "source": [
    "eth_pop = {}\n",
    "\n",
    "for country in root.findall('country'):\n",
    "    \n",
    "    c_pop = 0\n",
    "    latest_year = 0\n",
    "    \n",
    "    #get latest population estimate\n",
    "    for pop in country.findall('population'):\n",
    "        pop_year = int(pop.attrib['year'])\n",
    "        if pop_year > latest_year:\n",
    "            latest_year = pop_year\n",
    "            c_pop = int(pop.text)\n",
    "            \n",
    "    #get ethnic group percentage and multiply by population\n",
    "    for eth in country.findall('ethnicgroup'):\n",
    "        eth_per = float(eth.attrib['percentage']) / 100\n",
    "        if eth.text in eth_pop:\n",
    "            eth_pop[eth.text] += eth_per * c_pop\n",
    "        else:\n",
    "            eth_pop[eth.text] = eth_per * c_pop\n",
    "\n",
    "i = 1\n",
    "for key in sorted(eth_pop, key=eth_pop.get, reverse=True)[:10]:\n",
    "    print(str(i) + '. ' + key + \": \" + str(eth_pop[key]))\n",
    "    i+=1"
   ]
  },
  {
   "cell_type": "code",
   "execution_count": null,
   "metadata": {
    "collapsed": true
   },
   "outputs": [],
   "source": []
  },
  {
   "cell_type": "code",
   "execution_count": null,
   "metadata": {
    "collapsed": true
   },
   "outputs": [],
   "source": []
  },
  {
   "cell_type": "markdown",
   "metadata": {},
   "source": [
    "## Part 4: name and country of a) longest river, b) largest lake and c) airport at highest elevation"
   ]
  },
  {
   "cell_type": "code",
   "execution_count": 64,
   "metadata": {
    "collapsed": false
   },
   "outputs": [],
   "source": [
    "import pandas as pd"
   ]
  },
  {
   "cell_type": "code",
   "execution_count": 87,
   "metadata": {
    "collapsed": false
   },
   "outputs": [
    {
     "data": {
      "text/html": [
       "<div>\n",
       "<table border=\"1\" class=\"dataframe\">\n",
       "  <thead>\n",
       "    <tr style=\"text-align: right;\">\n",
       "      <th></th>\n",
       "      <th>country</th>\n",
       "      <th>river_length</th>\n",
       "      <th>river_name</th>\n",
       "    </tr>\n",
       "  </thead>\n",
       "  <tbody>\n",
       "    <tr>\n",
       "      <th>174</th>\n",
       "      <td>CO BR PE</td>\n",
       "      <td>6448.0</td>\n",
       "      <td>Amazonas</td>\n",
       "    </tr>\n",
       "  </tbody>\n",
       "</table>\n",
       "</div>"
      ],
      "text/plain": [
       "      country  river_length river_name\n",
       "174  CO BR PE        6448.0   Amazonas"
      ]
     },
     "execution_count": 87,
     "metadata": {},
     "output_type": "execute_result"
    }
   ],
   "source": [
    "#part a\n",
    "\n",
    "countries = []\n",
    "names = []\n",
    "lengths = []\n",
    "\n",
    "for river in root.findall('river'):\n",
    "    country, name, length = '','',0\n",
    "    if river.find('length') != None:\n",
    "        country = river.attrib['country']\n",
    "        name = river.find('name').text\n",
    "        length = float(river.find('length').text)\n",
    "    \n",
    "    if country != '' and name != '' and length != 0:\n",
    "        countries.append(country)\n",
    "        names.append(name)\n",
    "        lengths.append(length)\n",
    "\n",
    "d = {'country' : countries,\n",
    "     'river_name' : names,\n",
    "     'river_length' : lengths}\n",
    "\n",
    "dfr = pd.DataFrame(d)\n",
    "dfr = dfr.sort_values(by='river_length', ascending=False)\n",
    "dfr.head(1)\n"
   ]
  },
  {
   "cell_type": "code",
   "execution_count": 101,
   "metadata": {
    "collapsed": false
   },
   "outputs": [],
   "source": [
    "for lake in root.findall('lake'):\n",
    "    l = lake.find('area')"
   ]
  },
  {
   "cell_type": "code",
   "execution_count": 112,
   "metadata": {
    "collapsed": false
   },
   "outputs": [
    {
     "data": {
      "text/html": [
       "<div>\n",
       "<table border=\"1\" class=\"dataframe\">\n",
       "  <thead>\n",
       "    <tr style=\"text-align: right;\">\n",
       "      <th></th>\n",
       "      <th>country</th>\n",
       "      <th>lake_area</th>\n",
       "      <th>lake_name</th>\n",
       "    </tr>\n",
       "  </thead>\n",
       "  <tbody>\n",
       "    <tr>\n",
       "      <th>54</th>\n",
       "      <td>R AZ KAZ IR TM</td>\n",
       "      <td>386400.0</td>\n",
       "      <td>Caspian Sea</td>\n",
       "    </tr>\n",
       "  </tbody>\n",
       "</table>\n",
       "</div>"
      ],
      "text/plain": [
       "           country  lake_area    lake_name\n",
       "54  R AZ KAZ IR TM   386400.0  Caspian Sea"
      ]
     },
     "execution_count": 112,
     "metadata": {},
     "output_type": "execute_result"
    }
   ],
   "source": [
    "#part b\n",
    "\n",
    "countries = []\n",
    "names = []\n",
    "areas = []\n",
    "\n",
    "for lake in root.findall('lake'):\n",
    "    country, name, area = '','', 0.0\n",
    "    if lake.find('area') != None:\n",
    "        country = lake.attrib['country']\n",
    "        name = lake.find('name').text\n",
    "        area = float(lake.find('area').text)\n",
    "    \n",
    "    if country != '' and name != '' and area != 0.0:\n",
    "        countries.append(country)\n",
    "        names.append(name)\n",
    "        areas.append(area)\n",
    "\n",
    "d = {'country' : countries,\n",
    "     'lake_name' : names,\n",
    "     'lake_area' : areas}\n",
    "\n",
    "dfl = pd.DataFrame(d)\n",
    "dfl = dfl.sort_values(by='lake_area', ascending=False)\n",
    "dfl.head(1)\n"
   ]
  },
  {
   "cell_type": "code",
   "execution_count": 126,
   "metadata": {
    "collapsed": false
   },
   "outputs": [
    {
     "data": {
      "text/html": [
       "<div>\n",
       "<table border=\"1\" class=\"dataframe\">\n",
       "  <thead>\n",
       "    <tr style=\"text-align: right;\">\n",
       "      <th></th>\n",
       "      <th>airport_elevation</th>\n",
       "      <th>airport_name</th>\n",
       "      <th>country</th>\n",
       "    </tr>\n",
       "  </thead>\n",
       "  <tbody>\n",
       "    <tr>\n",
       "      <th>80</th>\n",
       "      <td>4063</td>\n",
       "      <td>El Alto Intl</td>\n",
       "      <td>BOL</td>\n",
       "    </tr>\n",
       "  </tbody>\n",
       "</table>\n",
       "</div>"
      ],
      "text/plain": [
       "    airport_elevation  airport_name country\n",
       "80               4063  El Alto Intl     BOL"
      ]
     },
     "execution_count": 126,
     "metadata": {},
     "output_type": "execute_result"
    }
   ],
   "source": [
    "#part c\n",
    "\n",
    "countries = []\n",
    "names = []\n",
    "elevations = []\n",
    "\n",
    "for airport in root.findall('airport'):\n",
    "    country, name, elevation = '','', 0\n",
    "    if airport.find('elevation').text != None:\n",
    "        country = airport.attrib['country']\n",
    "        name = airport.find('name').text\n",
    "        elevation = int(airport.find('elevation').text)\n",
    "    \n",
    "    if country != '' and name != '' and area != 0:\n",
    "        countries.append(country)\n",
    "        names.append(name)\n",
    "        elevations.append(elevation)\n",
    "        \n",
    "d = {'country' : countries,\n",
    "     'airport_name' : names,\n",
    "     'airport_elevation' : elevations}\n",
    "\n",
    "dfa = pd.DataFrame(d)\n",
    "dfa = dfa.sort_values(by='airport_elevation', ascending=False)\n",
    "dfa.head(1)\n",
    "\n"
   ]
  },
  {
   "cell_type": "code",
   "execution_count": null,
   "metadata": {
    "collapsed": true
   },
   "outputs": [],
   "source": []
  }
 ],
 "metadata": {
  "kernelspec": {
   "display_name": "Python 3",
   "language": "python",
   "name": "python3"
  },
  "language_info": {
   "codemirror_mode": {
    "name": "ipython",
    "version": 3
   },
   "file_extension": ".py",
   "mimetype": "text/x-python",
   "name": "python",
   "nbconvert_exporter": "python",
   "pygments_lexer": "ipython3",
   "version": "3.6.0"
  }
 },
 "nbformat": 4,
 "nbformat_minor": 0
}
